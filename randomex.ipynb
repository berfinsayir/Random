{
 "cells": [
  {
   "cell_type": "markdown",
   "metadata": {
    "papermill": {
     "duration": 0.003746,
     "end_time": "2021-01-01T20:38:03.414996",
     "exception": false,
     "start_time": "2021-01-01T20:38:03.411250",
     "status": "completed"
    },
    "tags": []
   },
   "source": [
    "# **RANDOM_FOREST_REGRESSİON_EXAPLE**"
   ]
  },
  {
   "cell_type": "code",
   "execution_count": 1,
   "metadata": {
    "_cell_guid": "b1076dfc-b9ad-4769-8c92-a6c4dae69d19",
    "_uuid": "8f2839f25d086af736a60e9eeb907d3b93b6e0e5",
    "execution": {
     "iopub.execute_input": "2021-01-01T20:38:03.438619Z",
     "iopub.status.busy": "2021-01-01T20:38:03.428532Z",
     "iopub.status.idle": "2021-01-01T20:38:04.777080Z",
     "shell.execute_reply": "2021-01-01T20:38:04.776266Z"
    },
    "papermill": {
     "duration": 1.35916,
     "end_time": "2021-01-01T20:38:04.777220",
     "exception": false,
     "start_time": "2021-01-01T20:38:03.418060",
     "status": "completed"
    },
    "tags": []
   },
   "outputs": [
    {
     "name": "stderr",
     "output_type": "stream",
     "text": [
      "/opt/conda/lib/python3.7/site-packages/ipykernel_launcher.py:13: DataConversionWarning: A column-vector y was passed when a 1d array was expected. Please change the shape of y to (n_samples,), for example using ravel().\n",
      "  del sys.path[0]\n"
     ]
    },
    {
     "name": "stdout",
     "output_type": "stream",
     "text": [
      "7.8 seviyesinde fiyatin ne kadar oldugu : [22.7]\n"
     ]
    },
    {
     "data": {
      "image/png": "[encoded data removed]",
      "text/plain": [
       "<Figure size 432x288 with 1 Axes>"
      ]
     },
     "metadata": {
      "needs_background": "light"
     },
     "output_type": "display_data"
    },
    {
     "name": "stdout",
     "output_type": "stream",
     "text": [
      "r_score : 0.9798724794092587\n"
     ]
    }
   ],
   "source": [
    "import pandas as pd\n",
    "import matplotlib.pyplot as plt\n",
    "import numpy as np\n",
    "\n",
    "df=pd.read_csv(\"../input/random-forest-regression/randomforestregressiondataset.csv\",sep =\";\",header = None) #sample_datanin icine atma\n",
    "\n",
    "x=df.iloc[:,0].values.reshape(-1,1)\n",
    "y=df.iloc[:,1].values.reshape(-1,1)\n",
    "\n",
    "from sklearn.ensemble import RandomForestRegressor\n",
    "\n",
    "rf=RandomForestRegressor(n_estimators =100,random_state =42)\n",
    "rf.fit(x,y)\n",
    "\n",
    "print(\"7.8 seviyesinde fiyatin ne kadar oldugu :\",rf.predict([[7.8]])) #yine 2 koseli parantez\n",
    "\n",
    "\n",
    "x_ =np.arange(min(x),max(x),0.01).reshape(-1,1)\n",
    "y_head=rf.predict(x_)\n",
    "\n",
    "\n",
    "#visualize\n",
    "plt.scatter(x,y,color=\"red\")\n",
    "plt.plot(x_,y_head,color =\"green\")\n",
    "plt.xlabel(\"tribun level\")\n",
    "plt.ylabel(\"ucret\")\n",
    "plt.show()\n",
    "\n",
    "y_head=rf.predict(x)\n",
    "\n",
    "\n",
    "\n",
    "\n",
    "from sklearn.metrics import r2_score # y_head predict degerleri dogru mu diye ögrenmenin yolu\n",
    "\n",
    "print(\"r_score :\",r2_score(y,y_head)) # y ve y_head degerlerini karsilastir ve r score degerini bize ver\n"
   ]
  },
  {
   "cell_type": "code",
   "execution_count": 2,
   "metadata": {
    "execution": {
     "iopub.execute_input": "2021-01-01T20:38:04.800598Z",
     "iopub.status.busy": "2021-01-01T20:38:04.799909Z",
     "iopub.status.idle": "2021-01-01T20:38:04.989149Z",
     "shell.execute_reply": "2021-01-01T20:38:04.988375Z"
    },
    "papermill": {
     "duration": 0.205876,
     "end_time": "2021-01-01T20:38:04.989307",
     "exception": false,
     "start_time": "2021-01-01T20:38:04.783431",
     "status": "completed"
    },
    "tags": []
   },
   "outputs": [
    {
     "data": {
      "image/png": "[encoded data removed]",
      "text/plain": [
       "<Figure size 432x288 with 1 Axes>"
      ]
     },
     "metadata": {
      "needs_background": "light"
     },
     "output_type": "display_data"
    },
    {
     "name": "stdout",
     "output_type": "stream",
     "text": [
      "r_score : 0.9775283164949902\n"
     ]
    }
   ],
   "source": [
    "import pandas as pd\n",
    "import matplotlib.pyplot as plt\n",
    "\n",
    "df=pd.read_csv(\"../input/linear-regression-datasetcsv/linear_regression_dataset.csv\",sep=\";\")\n",
    "\n",
    "\n",
    "\n",
    "from sklearn.linear_model import LinearRegression\n",
    "\n",
    "linear_reg =LinearRegression()\n",
    "\n",
    "x=df.deneyim.values.reshape(-1,1)\n",
    "y=df.maas.values.reshape(-1,1)\n",
    "\n",
    "linear_reg.fit(x,y)\n",
    "\n",
    "y_head=linear_reg.predict(x)\n",
    "\n",
    "plt.plot(x,y_head,color =\"red\")\n",
    "plt.scatter(df.deneyim,df.maas)\n",
    "plt.xlabel(\"deneyim\")\n",
    "plt.ylabel(\"maas\")\n",
    "plt.show()\n",
    "\n",
    "from sklearn.metrics import r2_score\n",
    "\n",
    "print(\"r_score :\",r2_score(y,y_head))"
   ]
  }
 ],
 "metadata": {
  "kernelspec": {
   "display_name": "Python 3",
   "language": "python",
   "name": "python3"
  },
  "language_info": {
   "codemirror_mode": {
    "name": "ipython",
    "version": 3
   },
   "file_extension": ".py",
   "mimetype": "text/x-python",
   "name": "python",
   "nbconvert_exporter": "python",
   "pygments_lexer": "ipython3",
   "version": "3.7.6"
  },
  "papermill": {
   "duration": 6.6683,
   "end_time": "2021-01-01T20:38:06.099748",
   "environment_variables": {},
   "exception": null,
   "input_path": "__notebook__.ipynb",
   "output_path": "__notebook__.ipynb",
   "parameters": {},
   "start_time": "2021-01-01T20:37:59.431448",
   "version": "2.1.0"
  }
 },
 "nbformat": 4,
 "nbformat_minor": 4
}
